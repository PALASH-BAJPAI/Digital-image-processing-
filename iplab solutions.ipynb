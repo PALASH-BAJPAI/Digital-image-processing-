{
  "nbformat": 4,
  "nbformat_minor": 0,
  "metadata": {
    "colab": {
      "name": "Lab cheatsheet.ipynb",
      "provenance": []
    },
    "kernelspec": {
      "name": "python3",
      "display_name": "Python 3"
    }
  },
  "cells": [
    {
      "cell_type": "code",
      "metadata": {
        "id": "z9AaXcIW6fUM"
      },
      "source": [
        "import numpy as np\r\n",
        "import matplotlib.pyplot as plt"
      ],
      "execution_count": null,
      "outputs": []
    },
    {
      "cell_type": "code",
      "metadata": {
        "id": "L7J-jtUCNm6w"
      },
      "source": [
        "def fft1d(m):\r\n",
        "  fft1d = np.zeros([m, m], dtype=complex)\r\n",
        "  for u in range(m):\r\n",
        "    for x in range(m):\r\n",
        "      fft1d[u][x] = np.round(np.exp(-1j*2*np.pi*x*u/m), 10)\r\n",
        "  ifft1d = np.conj(fft1d)\r\n",
        "  return fft1d, ifft1d"
      ],
      "execution_count": null,
      "outputs": []
    },
    {
      "cell_type": "code",
      "metadata": {
        "id": "tb2L27lxSdTX"
      },
      "source": [
        "def dct1d(N):\r\n",
        "  dct_d = np.zeros([N, N])\r\n",
        "\r\n",
        "  for k in range(N):\r\n",
        "    for n in range(N):\r\n",
        "      dct_d[k, n] = np.cos(np.pi*((n+0.5)/N * k))\r\n",
        "  return dct_d"
      ],
      "execution_count": null,
      "outputs": []
    },
    {
      "cell_type": "code",
      "metadata": {
        "id": "DAQMgYS6N2Mb"
      },
      "source": [
        "def walsh1d(N):\r\n",
        "  def getBinaries(n):\r\n",
        "    binary = [int(x) for x in bin(n)[2:]]\r\n",
        "    return [0]*(int(np.log2(N))-len(binary)+1) + binary\r\n",
        "  G1d = np.zeros([N, N])\r\n",
        "  for x in range(N):\r\n",
        "    for u in range(N):\r\n",
        "      bx = getBinaries(x)\r\n",
        "      bu = getBinaries(u)\r\n",
        "      G1d[x, u] = (-1) ** sum(np.multiply(bx, bu[::-1]))\r\n",
        "  return G1d"
      ],
      "execution_count": null,
      "outputs": []
    },
    {
      "cell_type": "code",
      "metadata": {
        "id": "EyHRZDV_N7VR"
      },
      "source": [
        "def hadamard1d(N):\r\n",
        "  def getBinaries(n):\r\n",
        "    binary = [int(x) for x in bin(n)[2:]]\r\n",
        "    return [0]*(int(np.log2(N))-len(binary)+1) + binary\r\n",
        "  H1d = np.zeros([N, N])\r\n",
        "  for x in range(N):\r\n",
        "    for u in range(N):\r\n",
        "      bx = getBinaries(x)\r\n",
        "      bu = getBinaries(u)\r\n",
        "      H1d[x, u] = (-1) ** sum(np.multiply(bx, bu))\r\n",
        "  return H1d"
      ],
      "execution_count": null,
      "outputs": []
    },
    {
      "cell_type": "code",
      "metadata": {
        "id": "LoX0wygE9cHS"
      },
      "source": [
        "def convolve_2D(image, kernel):\r\n",
        "    return ccorrelation_2d(image, np.flipud(np.fliplr(kernel)))\r\n",
        "\r\n",
        "def ccorrelation_2d(image, kernel):\r\n",
        "    padding = kernel.shape[0] - 1\r\n",
        "\r\n",
        "    # Shape of Output Convolution\r\n",
        "    xOutput = int(((image.shape[0] - kernel.shape[0] + 2 * padding) ) + 1)\r\n",
        "    yOutput = int(((image.shape[1] - kernel.shape[1] + 2 * padding) ) + 1)\r\n",
        "    output = np.zeros((xOutput, yOutput))\r\n",
        "\r\n",
        "    # Apply Equal Padding to All Sides\r\n",
        "\r\n",
        "    imagePadded = np.pad(image, padding)\r\n",
        "\r\n",
        "    # Iterate through image\r\n",
        "    for y in range(yOutput):\r\n",
        "        for x in range(xOutput):\r\n",
        "            output[x, y] = np.sum(kernel * imagePadded[x: x + kernel.shape[0], y: y + kernel.shape[1]])\r\n",
        "    return output"
      ],
      "execution_count": null,
      "outputs": []
    },
    {
      "cell_type": "code",
      "metadata": {
        "colab": {
          "base_uri": "https://localhost:8080/"
        },
        "id": "WJnSLNXV90Lw",
        "outputId": "2b1ec457-deb9-42d6-eabb-0786f628fe7a"
      },
      "source": [
        "convolve_2D(np.array([[1, 2, 1], [1, 2, 1], [3, 3, 3]]), np.array([[1, 1], [-1, -1]]))"
      ],
      "execution_count": null,
      "outputs": [
        {
          "output_type": "execute_result",
          "data": {
            "text/plain": [
              "array([[ 1.,  3.,  3.,  1.],\n",
              "       [ 0.,  0.,  0.,  0.],\n",
              "       [ 2.,  3.,  3.,  2.],\n",
              "       [-3., -6., -6., -3.]])"
            ]
          },
          "metadata": {
            "tags": []
          },
          "execution_count": 21
        }
      ]
    },
    {
      "cell_type": "code",
      "metadata": {
        "colab": {
          "base_uri": "https://localhost:8080/"
        },
        "id": "rX2tfJh2934A",
        "outputId": "abed86f8-2212-46a4-90e2-a66f212ab074"
      },
      "source": [
        "robertsFilterx = np.array([[1, 0], [0, -1]])\r\n",
        "robertsFiltery = np.flipud(robertsFilterx).transpose()\r\n",
        "\r\n",
        "sobelFilterx = np.array([[-1, 0, 1], [-2, 0, 2], [-1, 0, 1]])\r\n",
        "sobelFiltery = np.flipud(sobelFilterx).transpose()\r\n",
        "\r\n",
        "prewittFilterx = np.array([[-1, 0, 1]]*3)\r\n",
        "prewittFiltery = np.flipud(prewittFilterx).transpose()\r\n",
        "print(prewittFiltery)"
      ],
      "execution_count": null,
      "outputs": [
        {
          "output_type": "stream",
          "text": [
            "[[-1 -1 -1]\n",
            " [ 0  0  0]\n",
            " [ 1  1  1]]\n"
          ],
          "name": "stdout"
        }
      ]
    },
    {
      "cell_type": "code",
      "metadata": {
        "id": "k6-lR-6eFc9L"
      },
      "source": [
        "def histEqualization(image):\r\n",
        "  hist, _ = np.histogram(img.flatten(), bins=range(257))\r\n",
        "  pdf = hist / (256 ** 2)\r\n",
        "  cdf = np.zeros(257)\r\n",
        "  for i in range(256):\r\n",
        "    cdf[i] = cdf[i-1] + pdf[i]\r\n",
        "    cdf[i] = 1 if cdf[i] > 1 else cdf[i]\r\n",
        "  cdf = cdf * 255\r\n",
        "  cdf = np.floor(cdf)\r\n",
        "  new_image = np.zeros(img.shape)\r\n",
        "  for i in range(img.shape[0]):\r\n",
        "    for j in range(img.shape[1]):\r\n",
        "      new_image[i, j] = cdf[img[i, j]]\r\n",
        "  return new_image, cdf"
      ],
      "execution_count": null,
      "outputs": []
    },
    {
      "cell_type": "code",
      "metadata": {
        "id": "lJfypr80BsZG"
      },
      "source": [
        "equal1 = histEqualization(origImage)[1]\r\n",
        "equal2 = histEqualization(targetImage)[1]\r\n",
        "list(map(lambda eq1val: np.where(equal2 >= eq1val)[0][0], equal1))"
      ],
      "execution_count": null,
      "outputs": []
    },
    {
      "cell_type": "code",
      "metadata": {
        "id": "AYjLyCShOxsI"
      },
      "source": [
        "def imgClip(img, thresh):\r\n",
        "  img[img<thresh] = 0\r\n",
        "  return img\r\n",
        "def imgWindow(img, window):\r\n",
        "  img[img>window] = 0\r\n",
        "  return img"
      ],
      "execution_count": null,
      "outputs": []
    }
  ]
}